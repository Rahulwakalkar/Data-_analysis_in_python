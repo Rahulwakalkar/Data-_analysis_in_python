{
 "cells": [
  {
   "cell_type": "code",
   "execution_count": 1,
   "id": "f5d58267",
   "metadata": {},
   "outputs": [],
   "source": [
    "import pandas as pd"
   ]
  },
  {
   "cell_type": "code",
   "execution_count": 4,
   "id": "1788007f",
   "metadata": {},
   "outputs": [],
   "source": [
    "df=pd.read_csv(\"C://Users//HP//Downloads//Participants_Data_analytics_olympiad_2023//uber_rides_data.xlsx - sample_train.csv\")"
   ]
  },
  {
   "cell_type": "code",
   "execution_count": 5,
   "id": "740cef9d",
   "metadata": {},
   "outputs": [
    {
     "data": {
      "text/html": [
       "<div>\n",
       "<style scoped>\n",
       "    .dataframe tbody tr th:only-of-type {\n",
       "        vertical-align: middle;\n",
       "    }\n",
       "\n",
       "    .dataframe tbody tr th {\n",
       "        vertical-align: top;\n",
       "    }\n",
       "\n",
       "    .dataframe thead th {\n",
       "        text-align: right;\n",
       "    }\n",
       "</style>\n",
       "<table border=\"1\" class=\"dataframe\">\n",
       "  <thead>\n",
       "    <tr style=\"text-align: right;\">\n",
       "      <th></th>\n",
       "      <th>ride_id</th>\n",
       "      <th>fare_amount</th>\n",
       "      <th>pickup_datetime</th>\n",
       "      <th>pickup_longitude</th>\n",
       "      <th>pickup_latitude</th>\n",
       "      <th>dropoff_longitude</th>\n",
       "      <th>dropoff_latitude</th>\n",
       "      <th>passenger_count</th>\n",
       "    </tr>\n",
       "  </thead>\n",
       "  <tbody>\n",
       "    <tr>\n",
       "      <th>0</th>\n",
       "      <td>24238194</td>\n",
       "      <td>7.5</td>\n",
       "      <td>2015-05-07 19:52:06 UTC</td>\n",
       "      <td>-73.999817</td>\n",
       "      <td>40.738354</td>\n",
       "      <td>-73.999512</td>\n",
       "      <td>40.723217</td>\n",
       "      <td>1</td>\n",
       "    </tr>\n",
       "    <tr>\n",
       "      <th>1</th>\n",
       "      <td>27835199</td>\n",
       "      <td>7.7</td>\n",
       "      <td>2009-07-17 20:04:56 UTC</td>\n",
       "      <td>-73.994355</td>\n",
       "      <td>40.728225</td>\n",
       "      <td>-73.994710</td>\n",
       "      <td>40.750325</td>\n",
       "      <td>1</td>\n",
       "    </tr>\n",
       "    <tr>\n",
       "      <th>2</th>\n",
       "      <td>44984355</td>\n",
       "      <td>12.9</td>\n",
       "      <td>2009-08-24 21:45:00 UTC</td>\n",
       "      <td>-74.005043</td>\n",
       "      <td>40.740770</td>\n",
       "      <td>-73.962565</td>\n",
       "      <td>40.772647</td>\n",
       "      <td>1</td>\n",
       "    </tr>\n",
       "    <tr>\n",
       "      <th>3</th>\n",
       "      <td>25894730</td>\n",
       "      <td>5.3</td>\n",
       "      <td>2009-06-26 08:22:21 UTC</td>\n",
       "      <td>-73.976124</td>\n",
       "      <td>40.790844</td>\n",
       "      <td>-73.965316</td>\n",
       "      <td>40.803349</td>\n",
       "      <td>3</td>\n",
       "    </tr>\n",
       "    <tr>\n",
       "      <th>4</th>\n",
       "      <td>17610152</td>\n",
       "      <td>16.0</td>\n",
       "      <td>2014-08-28 17:47:00 UTC</td>\n",
       "      <td>-73.925023</td>\n",
       "      <td>40.744085</td>\n",
       "      <td>-73.973082</td>\n",
       "      <td>40.761247</td>\n",
       "      <td>5</td>\n",
       "    </tr>\n",
       "  </tbody>\n",
       "</table>\n",
       "</div>"
      ],
      "text/plain": [
       "    ride_id  fare_amount          pickup_datetime  pickup_longitude  \\\n",
       "0  24238194          7.5  2015-05-07 19:52:06 UTC        -73.999817   \n",
       "1  27835199          7.7  2009-07-17 20:04:56 UTC        -73.994355   \n",
       "2  44984355         12.9  2009-08-24 21:45:00 UTC        -74.005043   \n",
       "3  25894730          5.3  2009-06-26 08:22:21 UTC        -73.976124   \n",
       "4  17610152         16.0  2014-08-28 17:47:00 UTC        -73.925023   \n",
       "\n",
       "   pickup_latitude  dropoff_longitude  dropoff_latitude  passenger_count  \n",
       "0        40.738354         -73.999512         40.723217                1  \n",
       "1        40.728225         -73.994710         40.750325                1  \n",
       "2        40.740770         -73.962565         40.772647                1  \n",
       "3        40.790844         -73.965316         40.803349                3  \n",
       "4        40.744085         -73.973082         40.761247                5  "
      ]
     },
     "execution_count": 5,
     "metadata": {},
     "output_type": "execute_result"
    }
   ],
   "source": [
    "df.head()"
   ]
  },
  {
   "cell_type": "markdown",
   "id": "efad1c11",
   "metadata": {},
   "source": [
    "# shape of dataframe"
   ]
  },
  {
   "cell_type": "code",
   "execution_count": 6,
   "id": "032e3ca7",
   "metadata": {},
   "outputs": [
    {
     "data": {
      "text/plain": [
       "(200000, 8)"
      ]
     },
     "execution_count": 6,
     "metadata": {},
     "output_type": "execute_result"
    }
   ],
   "source": [
    "df.shape"
   ]
  },
  {
   "cell_type": "markdown",
   "id": "792df0dc",
   "metadata": {},
   "source": [
    "# check column data types"
   ]
  },
  {
   "cell_type": "code",
   "execution_count": 7,
   "id": "a31c0f0d",
   "metadata": {},
   "outputs": [
    {
     "name": "stdout",
     "output_type": "stream",
     "text": [
      "<class 'pandas.core.frame.DataFrame'>\n",
      "RangeIndex: 200000 entries, 0 to 199999\n",
      "Data columns (total 8 columns):\n",
      " #   Column             Non-Null Count   Dtype  \n",
      "---  ------             --------------   -----  \n",
      " 0   ride_id            200000 non-null  int64  \n",
      " 1   fare_amount        200000 non-null  float64\n",
      " 2   pickup_datetime    200000 non-null  object \n",
      " 3   pickup_longitude   200000 non-null  float64\n",
      " 4   pickup_latitude    200000 non-null  float64\n",
      " 5   dropoff_longitude  199999 non-null  float64\n",
      " 6   dropoff_latitude   199999 non-null  float64\n",
      " 7   passenger_count    200000 non-null  int64  \n",
      "dtypes: float64(5), int64(2), object(1)\n",
      "memory usage: 12.2+ MB\n"
     ]
    }
   ],
   "source": [
    "df.info()"
   ]
  },
  {
   "cell_type": "markdown",
   "id": "2e9ae4d7",
   "metadata": {},
   "source": [
    "# missing values in 'dropoff_longitude'"
   ]
  },
  {
   "cell_type": "code",
   "execution_count": 8,
   "id": "c6bf4019",
   "metadata": {},
   "outputs": [],
   "source": [
    "missing_values_count = df['dropoff_longitude'].isna().sum()"
   ]
  },
  {
   "cell_type": "code",
   "execution_count": 9,
   "id": "aab34f31",
   "metadata": {},
   "outputs": [
    {
     "name": "stdout",
     "output_type": "stream",
     "text": [
      "Number of missing values in 'dropoff_longitude' column: 1\n"
     ]
    }
   ],
   "source": [
    "# missing_values_count = df['dropoff_longitude'].isnull().sum()\n",
    "\n",
    "print(\"Number of missing values in 'dropoff_longitude' column:\", missing_values_count)"
   ]
  },
  {
   "cell_type": "markdown",
   "id": "ff82f3bb",
   "metadata": {},
   "source": [
    "# convert 'pickup_datetime' to datetime datatype"
   ]
  },
  {
   "cell_type": "code",
   "execution_count": 10,
   "id": "e1d70a54",
   "metadata": {},
   "outputs": [
    {
     "data": {
      "text/plain": [
       "0        2015-05-07 19:52:06+00:00\n",
       "1        2009-07-17 20:04:56+00:00\n",
       "2        2009-08-24 21:45:00+00:00\n",
       "3        2009-06-26 08:22:21+00:00\n",
       "4        2014-08-28 17:47:00+00:00\n",
       "                    ...           \n",
       "199995   2012-10-28 10:49:00+00:00\n",
       "199996   2014-03-14 01:09:00+00:00\n",
       "199997   2009-06-29 00:42:00+00:00\n",
       "199998   2015-05-20 14:56:25+00:00\n",
       "199999   2010-05-15 04:08:00+00:00\n",
       "Name: pickup_datetime, Length: 200000, dtype: datetime64[ns, UTC]"
      ]
     },
     "execution_count": 10,
     "metadata": {},
     "output_type": "execute_result"
    }
   ],
   "source": [
    "pd.to_datetime(df['pickup_datetime'])\n"
   ]
  },
  {
   "cell_type": "markdown",
   "id": "d121ea02",
   "metadata": {},
   "source": [
    "# remove null values"
   ]
  },
  {
   "cell_type": "code",
   "execution_count": 11,
   "id": "071f1087",
   "metadata": {},
   "outputs": [],
   "source": [
    "df.dropna(inplace=True)  #  remove rows with any missing values"
   ]
  },
  {
   "cell_type": "markdown",
   "id": "7ae754c5",
   "metadata": {},
   "source": [
    "# average fare amount"
   ]
  },
  {
   "cell_type": "code",
   "execution_count": 12,
   "id": "c9ad75d7",
   "metadata": {},
   "outputs": [
    {
     "name": "stdout",
     "output_type": "stream",
     "text": [
      "The average fare amount is: 11.359891549457748\n"
     ]
    }
   ],
   "source": [
    "df_cleaned = df.dropna(subset=['fare_amount'])\n",
    "\n",
    "# Calculate the average fare amount\n",
    "average_fare = df_cleaned['fare_amount'].mean()\n",
    "\n",
    "print(\"The average fare amount is:\", average_fare)"
   ]
  },
  {
   "cell_type": "markdown",
   "id": "e120f9dd",
   "metadata": {},
   "source": [
    "# median Haversine distance between pickup and dropoff locations"
   ]
  },
  {
   "cell_type": "code",
   "execution_count": 13,
   "id": "a1add059",
   "metadata": {},
   "outputs": [],
   "source": [
    "import numpy as np\n",
    "\n",
    "def haversine(lat1, lon1, lat2, lon2):\n",
    "    \n",
    "    # Convert latitude and longitude from degrees to radians\n",
    "    lat1, lon1, lat2, lon2 = map(np.radians, [lat1, lon1, lat2, lon2])\n",
    "\n",
    "    # Haversine formula\n",
    "    dlon = lon2 - lon1\n",
    "    dlat = lat2 - lat1\n",
    "    a = np.sin(dlat/2)**2 + np.cos(lat1) * np.cos(lat2) * np.sin(dlon/2)**2\n",
    "    c = 2 * np.arcsin(np.sqrt(a))\n",
    "    r = 6371  # Radius of the Earth in kilometers. Use 3959 for miles.\n",
    "    \n",
    "    return c * r\n"
   ]
  },
  {
   "cell_type": "code",
   "execution_count": 14,
   "id": "deb0be77",
   "metadata": {},
   "outputs": [],
   "source": [
    "\n",
    "df['haversine_distance'] = df.apply(lambda row: haversine(row['pickup_latitude'], row['pickup_longitude'], row['dropoff_latitude'], row['dropoff_longitude']), axis=1)\n"
   ]
  },
  {
   "cell_type": "code",
   "execution_count": 16,
   "id": "4d0ce05e",
   "metadata": {},
   "outputs": [
    {
     "name": "stdout",
     "output_type": "stream",
     "text": [
      "The median Haversine distance between pickup and dropoff locations is: 2.1209923961833708 kilometers\n"
     ]
    }
   ],
   "source": [
    "median_distance = df['haversine_distance'].median()\n",
    "print(\"The median Haversine distance between pickup and dropoff locations is:\", median_distance, \"kilometers\")\n"
   ]
  },
  {
   "cell_type": "markdown",
   "id": "8f1e186c",
   "metadata": {},
   "source": [
    "# maximum Haversine distance between pickup and dropoff locations"
   ]
  },
  {
   "cell_type": "code",
   "execution_count": 17,
   "id": "8f97841b",
   "metadata": {},
   "outputs": [
    {
     "name": "stdout",
     "output_type": "stream",
     "text": [
      "The maximum Haversine distance between pickup and dropoff locations is: 16409.239135313164 kilometers\n"
     ]
    }
   ],
   "source": [
    "maximum_distance = df['haversine_distance'].max()\n",
    "print(\"The maximum Haversine distance between pickup and dropoff locations is:\", maximum_distance, \"kilometers\")\n"
   ]
  },
  {
   "cell_type": "markdown",
   "id": "b21567b7",
   "metadata": {},
   "source": [
    "# number of rides with 0.0 Haversine distance between pickup and dropoff locations"
   ]
  },
  {
   "cell_type": "code",
   "execution_count": 18,
   "id": "b564374b",
   "metadata": {},
   "outputs": [
    {
     "name": "stdout",
     "output_type": "stream",
     "text": [
      "The number of rides with 0.0 Haversine distance between pickup and dropoff locations is: 5632\n"
     ]
    }
   ],
   "source": [
    "\n",
    "rides_with_zero_distance = (df['haversine_distance'] == 0.0).sum()\n",
    "\n",
    "print(\"The number of rides with 0.0 Haversine distance between pickup and dropoff locations is:\", rides_with_zero_distance)\n"
   ]
  },
  {
   "cell_type": "markdown",
   "id": "2857e0f1",
   "metadata": {},
   "source": [
    "# mean 'fare_amount' for rides"
   ]
  },
  {
   "cell_type": "code",
   "execution_count": 19,
   "id": "0a9656b0",
   "metadata": {},
   "outputs": [
    {
     "name": "stdout",
     "output_type": "stream",
     "text": [
      "The mean 'fare_amount' for rides with 0.0 Haversine distance is: 11.585317826704546\n"
     ]
    }
   ],
   "source": [
    "mean_fare_for_zero_distance = df[df['haversine_distance'] == 0.0]['fare_amount'].mean()\n",
    "\n",
    "print(\"The mean 'fare_amount' for rides with 0.0 Haversine distance is:\", mean_fare_for_zero_distance)"
   ]
  },
  {
   "cell_type": "markdown",
   "id": "ea2ba720",
   "metadata": {},
   "source": [
    "# maximum 'fare_amount'"
   ]
  },
  {
   "cell_type": "code",
   "execution_count": 20,
   "id": "4134ada9",
   "metadata": {},
   "outputs": [
    {
     "name": "stdout",
     "output_type": "stream",
     "text": [
      "The maximum 'fare_amount' for a ride is: 499.0\n"
     ]
    }
   ],
   "source": [
    "maximum_fare_amount = df['fare_amount'].max()\n",
    "\n",
    "print(\"The maximum 'fare_amount' for a ride is:\", maximum_fare_amount)"
   ]
  },
  {
   "cell_type": "markdown",
   "id": "ee4e662d",
   "metadata": {},
   "source": [
    "# Haversine distance for the costliest ride"
   ]
  },
  {
   "cell_type": "code",
   "execution_count": 21,
   "id": "311d8ed2",
   "metadata": {},
   "outputs": [
    {
     "name": "stdout",
     "output_type": "stream",
     "text": [
      "The Haversine distance for the costliest ride is: 0.0007899213191009994 kilometers\n"
     ]
    }
   ],
   "source": [
    "#  row with the highest 'fare_amount'\n",
    "costliest_ride = df[df['fare_amount'] == df['fare_amount'].max()]\n",
    "\n",
    "# Calculate the Haversine distance for the costliest ride\n",
    "haversine_distance_costliest_ride = haversine(\n",
    "    costliest_ride['pickup_latitude'].values[0],\n",
    "    costliest_ride['pickup_longitude'].values[0],\n",
    "    costliest_ride['dropoff_latitude'].values[0],\n",
    "    costliest_ride['dropoff_longitude'].values[0]\n",
    ")\n",
    "\n",
    "print(\"The Haversine distance for the costliest ride is:\", haversine_distance_costliest_ride, \"kilometers\")\n"
   ]
  },
  {
   "cell_type": "markdown",
   "id": "daa6889c",
   "metadata": {},
   "source": [
    "# recorded rides in the year 2014 "
   ]
  },
  {
   "cell_type": "code",
   "execution_count": 22,
   "id": "904561d9",
   "metadata": {},
   "outputs": [
    {
     "name": "stdout",
     "output_type": "stream",
     "text": [
      "The number of rides recorded in the year 2014 is: 29968\n"
     ]
    }
   ],
   "source": [
    "# Convert 'pickup_datetime' to a datetime object\n",
    "df['pickup_datetime'] = pd.to_datetime(df['pickup_datetime'])\n",
    "\n",
    "# Extract the year from 'pickup_datetime'\n",
    "df['year'] = df['pickup_datetime'].dt.year\n",
    "\n",
    "# Count the number of rides in the year 2014\n",
    "rides_in_2014 = (df['year'] == 2014).sum()\n",
    "\n",
    "print(\"The number of rides recorded in the year 2014 is:\", rides_in_2014)"
   ]
  },
  {
   "cell_type": "markdown",
   "id": "8a520e2c",
   "metadata": {},
   "source": [
    "# recorded rides in the first quarter of year 2014"
   ]
  },
  {
   "cell_type": "code",
   "execution_count": 23,
   "id": "74e055f6",
   "metadata": {},
   "outputs": [
    {
     "name": "stdout",
     "output_type": "stream",
     "text": [
      "The number of rides recorded in the first quarter of 2014 is: 7617\n"
     ]
    }
   ],
   "source": [
    "#  filter for the first quarter of 2014\n",
    "first_quarter_2014_filter = (df['pickup_datetime'] >= '2014-01-01') & (df['pickup_datetime'] <= '2014-03-31')\n",
    "\n",
    "# filter to count the number of rides in the first quarter of 2014\n",
    "rides_in_first_quarter_2014 = first_quarter_2014_filter.sum()\n",
    "\n",
    "print(\"The number of rides recorded in the first quarter of 2014 is:\", rides_in_first_quarter_2014)"
   ]
  },
  {
   "cell_type": "markdown",
   "id": "421e91c7",
   "metadata": {},
   "source": [
    "# maximum rides recorded day"
   ]
  },
  {
   "cell_type": "code",
   "execution_count": 24,
   "id": "04b2d83a",
   "metadata": {},
   "outputs": [
    {
     "name": "stdout",
     "output_type": "stream",
     "text": [
      "The day of the week in September 2010 with the maximum rides recorded was: Thursday\n"
     ]
    }
   ],
   "source": [
    "# Extract the day of the week (0 = Monday, 6 = Sunday)\n",
    "df['day_of_week'] = df['pickup_datetime'].dt.dayofweek\n",
    "\n",
    "# Filter data for September 2010\n",
    "september_2010_data = df[(df['pickup_datetime'].dt.year == 2010) & (df['pickup_datetime'].dt.month == 9)]\n",
    "\n",
    "# Group by day of the week and count rides\n",
    "rides_by_day_of_week = september_2010_data.groupby('day_of_week').size()\n",
    "\n",
    "#  day with the maximum number of rides\n",
    "max_rides_day = rides_by_day_of_week.idxmax()  # This gives the index (0-6) of the day\n",
    "\n",
    "# Convert the index to the corresponding day name\n",
    "day_names = ['Monday', 'Tuesday', 'Wednesday', 'Thursday', 'Friday', 'Saturday', 'Sunday']\n",
    "max_rides_day_name = day_names[max_rides_day]\n",
    "\n",
    "print(\"The day of the week in September 2010 with the maximum rides recorded was:\", max_rides_day_name)\n"
   ]
  },
  {
   "cell_type": "markdown",
   "id": "e5334c00",
   "metadata": {},
   "source": [
    "# Model training and prediction"
   ]
  },
  {
   "cell_type": "code",
   "execution_count": 25,
   "id": "f8439f75",
   "metadata": {},
   "outputs": [],
   "source": [
    "from sklearn.model_selection import train_test_split\n",
    "from sklearn.linear_model import LinearRegression\n",
    "from sklearn.tree import DecisionTreeRegressor\n",
    "from sklearn.ensemble import RandomForestRegressor, GradientBoostingRegressor\n",
    "from sklearn.metrics import mean_squared_error, r2_score"
   ]
  },
  {
   "cell_type": "code",
   "execution_count": 28,
   "id": "972428a0",
   "metadata": {},
   "outputs": [],
   "source": [
    "# Prepare the data\n",
    "X = df[['passenger_count', 'haversine_distance', 'day_of_week']]\n",
    "y = df['fare_amount']"
   ]
  },
  {
   "cell_type": "code",
   "execution_count": 29,
   "id": "75a3cf31",
   "metadata": {},
   "outputs": [],
   "source": [
    "# Split the data into training and testing sets (70-30 split)\n",
    "X_train, X_test, y_train, y_test = train_test_split(X, y, test_size=0.3, random_state=42)"
   ]
  },
  {
   "cell_type": "code",
   "execution_count": 30,
   "id": "1146ea60",
   "metadata": {},
   "outputs": [
    {
     "name": "stdout",
     "output_type": "stream",
     "text": [
      "Algorithm with the least adjusted R-squared: Linear Regression\n"
     ]
    }
   ],
   "source": [
    "# Initialize and train different regression models\n",
    "models = {\n",
    "    'Linear Regression': LinearRegression(),\n",
    "    'Decision Tree': DecisionTreeRegressor(),\n",
    "    'Random Forest': RandomForestRegressor(),\n",
    "    'Gradient Boosting': GradientBoostingRegressor()\n",
    "}\n",
    "\n",
    "results = {}\n",
    "for name, model in models.items():\n",
    "    model.fit(X_train, y_train)\n",
    "    y_pred = model.predict(X_test)\n",
    "    mse = mean_squared_error(y_test, y_pred)\n",
    "    r2 = r2_score(y_test, y_pred)\n",
    "    adjusted_r2 = 1 - (1 - r2) * ((len(y_test) - 1) / (len(y_test) - len(X_test.columns) - 1))\n",
    "    results[name] = adjusted_r2\n",
    "\n",
    "# Determine the algorithm with the least adjusted R-squared\n",
    "min_adjusted_r2_algorithm = min(results, key=results.get)\n",
    "print(\"Algorithm with the least adjusted R-squared:\", min_adjusted_r2_algorithm)"
   ]
  },
  {
   "cell_type": "code",
   "execution_count": null,
   "id": "c56d8f47",
   "metadata": {},
   "outputs": [],
   "source": []
  }
 ],
 "metadata": {
  "kernelspec": {
   "display_name": "Python 3 (ipykernel)",
   "language": "python",
   "name": "python3"
  },
  "language_info": {
   "codemirror_mode": {
    "name": "ipython",
    "version": 3
   },
   "file_extension": ".py",
   "mimetype": "text/x-python",
   "name": "python",
   "nbconvert_exporter": "python",
   "pygments_lexer": "ipython3",
   "version": "3.11.4"
  }
 },
 "nbformat": 4,
 "nbformat_minor": 5
}
